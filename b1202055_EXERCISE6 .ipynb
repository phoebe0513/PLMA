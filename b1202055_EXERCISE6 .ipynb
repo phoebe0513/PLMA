{
  "nbformat": 4,
  "nbformat_minor": 0,
  "metadata": {
    "colab": {
      "provenance": []
    },
    "kernelspec": {
      "name": "python3",
      "display_name": "Python 3"
    },
    "language_info": {
      "name": "python"
    }
  },
  "cells": [
    {
      "cell_type": "code",
      "execution_count": 24,
      "metadata": {
        "colab": {
          "base_uri": "https://localhost:8080/"
        },
        "id": "mc7yAm_BoxiL",
        "outputId": "e329fb2b-362b-4c22-9c81-d34d124c498f"
      },
      "outputs": [
        {
          "output_type": "stream",
          "name": "stdout",
          "text": [
            "1 × 1 = 1   2 × 1 = 2   3 × 1 = 3   4 × 1 = 4   5 × 1 = 5   6 × 1 = 6   7 × 1 = 7   8 × 1 = 8   9 × 1 = 9   \n",
            "1 × 2 = 2   2 × 2 = 4   3 × 2 = 6   4 × 2 = 8   5 × 2 = 10  6 × 2 = 12  7 × 2 = 14  8 × 2 = 16  9 × 2 = 18  \n",
            "1 × 3 = 3   2 × 3 = 6   3 × 3 = 9   4 × 3 = 12  5 × 3 = 15  6 × 3 = 18  7 × 3 = 21  8 × 3 = 24  9 × 3 = 27  \n",
            "1 × 4 = 4   2 × 4 = 8   3 × 4 = 12  4 × 4 = 16  5 × 4 = 20  6 × 4 = 24  7 × 4 = 28  8 × 4 = 32  9 × 4 = 36  \n",
            "1 × 5 = 5   2 × 5 = 10  3 × 5 = 15  4 × 5 = 20  5 × 5 = 25  6 × 5 = 30  7 × 5 = 35  8 × 5 = 40  9 × 5 = 45  \n",
            "1 × 6 = 6   2 × 6 = 12  3 × 6 = 18  4 × 6 = 24  5 × 6 = 30  6 × 6 = 36  7 × 6 = 42  8 × 6 = 48  9 × 6 = 54  \n",
            "1 × 7 = 7   2 × 7 = 14  3 × 7 = 21  4 × 7 = 28  5 × 7 = 35  6 × 7 = 42  7 × 7 = 49  8 × 7 = 56  9 × 7 = 63  \n",
            "1 × 8 = 8   2 × 8 = 16  3 × 8 = 24  4 × 8 = 32  5 × 8 = 40  6 × 8 = 48  7 × 8 = 56  8 × 8 = 64  9 × 8 = 72  \n",
            "1 × 9 = 9   2 × 9 = 18  3 × 9 = 27  4 × 9 = 36  5 × 9 = 45  6 × 9 = 54  7 × 9 = 63  8 × 9 = 72  9 × 9 = 81  \n"
          ]
        }
      ],
      "source": [
        "i=1\n",
        "while i<=9:\n",
        "  j=1\n",
        "  while j<=9:\n",
        "    p=i*j\n",
        "    if p<10:\n",
        "      print(f\"{j} × {i} = {p}\" ,end='   ')\n",
        "    else:\n",
        "      print(f\"{j} × {i} = {p}\" ,end='  ')\n",
        "\n",
        "    j+=1\n",
        "  print()\n",
        "  i+=1"
      ]
    },
    {
      "cell_type": "code",
      "source": [
        "import random\n",
        "ans = random.sample(range(1,10),4)\n",
        "print(ans)\n",
        "a=b=n=0\n",
        "k=013W\n",
        "while a !=4:\n",
        "  a=b=n=0\n",
        "  guess=list(input(\"輸入四個數字(不會重複)\"))\n",
        "  if len(guess)>4:\n",
        "    guess=list(input(\"輸入數字過多，請輸入四個數字(不會重複)\"))\n",
        "  else:\n",
        "    x+=1\n",
        "    guess=guess\n",
        "  for i in guess:\n",
        "    if int(guess[n])==ans[n]:\n",
        "      a+=1\n",
        "    else:\n",
        "      if int(i) in ans:\n",
        "        b+=1\n",
        "    n+=1\n",
        "  k+=1\n",
        "  output=','.join(guess).replace(',','')\n",
        "  print(f'{output}: {a}A{b}B')\n",
        "\n",
        "print(f'答對了!總共猜了{k}次')"
      ],
      "metadata": {
        "colab": {
          "base_uri": "https://localhost:8080/"
        },
        "id": "NstQ8xphvCiQ",
        "outputId": "c8dfa73a-0735-4941-daba-80a9de641340"
      },
      "execution_count": 50,
      "outputs": [
        {
          "output_type": "stream",
          "name": "stdout",
          "text": [
            "[9, 1, 3, 7]\n",
            "輸入四個數字(不會重複)123445\n",
            "輸入數字過多，請輸入四個數字(不會重複)1378\n",
            "1378: 0A3B\n",
            "輸入四個數字(不會重複)4139\n",
            "4139: 2A1B\n",
            "輸入四個數字(不會重複)9137\n",
            "9137: 4A0B\n",
            "答對了!總共猜了3次\n"
          ]
        }
      ]
    },
    {
      "cell_type": "code",
      "source": [],
      "metadata": {
        "id": "9HDwQIq1zz8g"
      },
      "execution_count": null,
      "outputs": []
    }
  ]
}