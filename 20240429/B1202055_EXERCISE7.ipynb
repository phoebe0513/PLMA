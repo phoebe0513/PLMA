{
  "nbformat": 4,
  "nbformat_minor": 0,
  "metadata": {
    "colab": {
      "provenance": []
    },
    "kernelspec": {
      "name": "python3",
      "display_name": "Python 3"
    },
    "language_info": {
      "name": "python"
    }
  },
  "cells": [
    {
      "cell_type": "code",
      "execution_count": 1,
      "metadata": {
        "colab": {
          "base_uri": "https://localhost:8080/"
        },
        "id": "uvC_Lcy3rkO8",
        "outputId": "56b5a10f-6dfa-46a0-c04c-e68cf31c291b"
      },
      "outputs": [
        {
          "output_type": "stream",
          "name": "stdout",
          "text": [
            "聖誕樹層數:8\n",
            "        *\n",
            "       ***\n",
            "      *****\n",
            "     *******\n",
            "    *********\n",
            "   ***********\n",
            "  *************\n",
            " ***************\n",
            "       ***\n",
            "       ***\n",
            "       ***\n",
            "       ***\n",
            "       ***\n"
          ]
        }
      ],
      "source": [
        "h=int(input('聖誕樹層數:'))\n",
        "for i in range(h):\n",
        "  print((' '*(h-i)+('*')*((2*i)+1)))\n",
        "r=5\n",
        "for i in range(r):\n",
        "  print((' '*(h-1))+('*')*3)"
      ]
    },
    {
      "cell_type": "code",
      "source": [
        "def BMI(a,b):\n",
        "  BMI=b/(a*a)\n",
        "  return BMI\n",
        "\n",
        "try:\n",
        "  c = input(\"輸入身高(單位：公分)：\")\n",
        "  d = input(\"輸入體重(單位：公斤)：\")\n",
        "  a = int(c)\n",
        "  b = int(d)\n",
        "  print('身高(公分):',a)\n",
        "  print('體重:',b)\n",
        "  a/=100\n",
        "  print(\"BMI:\",b/(a*a))\n",
        "\n",
        "  if b/(a*a)<18.5:\n",
        "    print('體位:過輕')\n",
        "  elif 18.5<b/(a*a)<24 or b/(a*a)==18.5:\n",
        "    print('體位:適中')\n",
        "  elif 24<b/(a*a)<27 or b/(a*a)==24:\n",
        "    print('體位:過重')\n",
        "  else:\n",
        "    print('體位:肥胖')\n",
        "except:\n",
        "  print('身高(公分):',c)\n",
        "  print('體重:',d)\n",
        "  print('輸入內容錯誤')"
      ],
      "metadata": {
        "colab": {
          "base_uri": "https://localhost:8080/"
        },
        "id": "yZumLCmruHUX",
        "outputId": "ec6f73e2-6b3d-4e1c-eb40-fdec92feddea"
      },
      "execution_count": 10,
      "outputs": [
        {
          "output_type": "stream",
          "name": "stdout",
          "text": [
            "輸入身高(單位：公分)：150\n",
            "輸入體重(單位：公斤)：vty8ft6de\n",
            "身高(公分): 150\n",
            "體重: vty8ft6de\n",
            "輸入內容錯誤\n"
          ]
        }
      ]
    }
  ]
}